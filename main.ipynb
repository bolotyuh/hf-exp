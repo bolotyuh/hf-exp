{
 "cells": [
  {
   "cell_type": "code",
   "execution_count": 7,
   "id": "469f7914-1238-41e0-b352-ccb54b25ab52",
   "metadata": {
    "tags": []
   },
   "outputs": [],
   "source": [
    "import os"
   ]
  },
  {
   "cell_type": "code",
   "execution_count": 8,
   "id": "5c76d584-0e57-4246-aea9-ad93354f1891",
   "metadata": {
    "tags": []
   },
   "outputs": [
    {
     "data": {
      "text/plain": [
       "16"
      ]
     },
     "execution_count": 8,
     "metadata": {},
     "output_type": "execute_result"
    }
   ],
   "source": [
    "os.cpu_count()"
   ]
  },
  {
   "cell_type": "code",
   "execution_count": 6,
   "id": "6a214e90-45ee-44a2-836a-b205d806140f",
   "metadata": {
    "tags": []
   },
   "outputs": [
    {
     "name": "stdout",
     "output_type": "stream",
     "text": [
      "/home/ec2-user/SageMaker\n"
     ]
    }
   ],
   "source": [
    "!pwd"
   ]
  },
  {
   "cell_type": "code",
   "execution_count": 40,
   "id": "1695cc5d-949c-4ac3-99b2-7e400eeb645b",
   "metadata": {
    "tags": []
   },
   "outputs": [],
   "source": [
    "import torch"
   ]
  },
  {
   "cell_type": "code",
   "execution_count": 10,
   "id": "55985f63-7982-4685-a46f-d408f6e59562",
   "metadata": {
    "tags": []
   },
   "outputs": [
    {
     "data": {
      "text/plain": [
       "'2.1.1+cu121'"
      ]
     },
     "execution_count": 10,
     "metadata": {},
     "output_type": "execute_result"
    }
   ],
   "source": [
    "torch.__version__"
   ]
  },
  {
   "cell_type": "code",
   "execution_count": 2,
   "id": "dfa033bb-119f-4486-afbd-f505598de8d1",
   "metadata": {
    "tags": []
   },
   "outputs": [],
   "source": []
  },
  {
   "cell_type": "code",
   "execution_count": 23,
   "id": "c3c2d4c7-ed46-403a-92f5-dfdb0e60d6dc",
   "metadata": {
    "tags": []
   },
   "outputs": [],
   "source": [
    "!sudo lfs hsm_restore /fsx/data/val/eschscholzia_minutiflora/e7b5513a5ad8dcb04fb12d878a1e716e.jpg"
   ]
  },
  {
   "cell_type": "code",
   "execution_count": 38,
   "id": "1d305f1b-4a09-426b-9c6b-a5a3d179bf6a",
   "metadata": {
    "tags": []
   },
   "outputs": [],
   "source": [
    "import concurrent.futures\n",
    "from tqdm import tqdm\n",
    "import subprocess\n",
    "from pathlib import Path\n",
    "\n",
    "def run_command(file):\n",
    "    cmd = f\"sudo lfs hsm_restore {file}\"\n",
    "    result = subprocess.run(cmd, shell=True)\n",
    "    return True\n",
    "\n",
    "def execute():\n",
    "    files = Path('/fsx/data/val').glob('**/*.jpg')\n",
    "    with concurrent.futures.ProcessPoolExecutor(max_workers=16) as executor:\n",
    "        list(tqdm(executor.map(run_command, files), total=len(files), desc=\"Processing\"))"
   ]
  },
  {
   "cell_type": "code",
   "execution_count": null,
   "id": "e9c47511-163f-41c0-95aa-5cb9db6abf98",
   "metadata": {
    "tags": []
   },
   "outputs": [
    {
     "name": "stderr",
     "output_type": "stream",
     "text": [
      "Processing: 100%|██████████| 599296/599296 [11:37<00:00, 859.14it/s]\n"
     ]
    }
   ],
   "source": [
    "execute()"
   ]
  },
  {
   "cell_type": "code",
   "execution_count": 11,
   "id": "0fee83c5-f581-4ac8-b71c-98d467b0cd51",
   "metadata": {
    "tags": []
   },
   "outputs": [
    {
     "name": "stderr",
     "output_type": "stream",
     "text": [
      "Could not find image processor class in the image processor config or the model config. Loading based on pattern matching with the model's feature extractor configuration.\n"
     ]
    },
    {
     "name": "stdout",
     "output_type": "stream",
     "text": [
      "Executed: 73.50190370199925\n"
     ]
    }
   ],
   "source": [
    "from time import perf_counter\n",
    "from torch.utils.data import DataLoader\n",
    "from torchvision.datasets import ImageFolder\n",
    "from torchvision.transforms import (\n",
    "    CenterCrop,\n",
    "    Compose,\n",
    "    Normalize,\n",
    "    RandomHorizontalFlip,\n",
    "    RandomResizedCrop,\n",
    "    Resize,\n",
    "    ToTensor,\n",
    ")\n",
    "from transformers import (\n",
    "    AutoConfig,\n",
    "    AutoImageProcessor,\n",
    ")\n",
    "model_name_or_path = 'microsoft/swin-base-patch4-window7-224-in22k'\n",
    "train_dir = '/fsx/data/val'\n",
    "\n",
    "image_processor = AutoImageProcessor.from_pretrained(\n",
    "    model_name_or_path\n",
    ")\n",
    "\n",
    "normalize = Normalize(\n",
    "    mean=image_processor.image_mean, std=image_processor.image_std\n",
    ")\n",
    "\n",
    "_train_transforms = Compose(\n",
    "    [\n",
    "        RandomResizedCrop(224),\n",
    "        ToTensor(),\n",
    "        normalize,\n",
    "    ]\n",
    ")\n",
    "time_start = perf_counter()\n",
    "train_ds = ImageFolder(train_dir, transform=_train_transforms)\n",
    "print(f\"Executed: {perf_counter()-time_start}\")"
   ]
  },
  {
   "cell_type": "code",
   "execution_count": 18,
   "id": "668eebdb-c2ab-4edd-9211-de1a13f7ebc1",
   "metadata": {
    "tags": []
   },
   "outputs": [
    {
     "name": "stdout",
     "output_type": "stream",
     "text": [
      "Executed: 5.29ms per iter\n",
      "Executed: 9.25ms per iter\n",
      "Executed: 1.90ms per iter\n",
      "Executed: 1.95ms per iter\n",
      "Executed: 1.87ms per iter\n",
      "Executed: 2.33ms per iter\n",
      "Executed: 2.39ms per iter\n",
      "Executed: 2.57ms per iter\n",
      "Executed: 2.40ms per iter\n",
      "Executed: 2.16ms per iter\n",
      "Executed: 2.79ms per iter\n",
      "Executed: 2.29ms per iter\n",
      "Executed: 2.29ms per iter\n",
      "Executed: 2.85ms per iter\n",
      "Executed: 2.81ms per iter\n",
      "Executed: 4.54ms per iter\n",
      "Executed: 16.80ms per iter\n",
      "Executed: 6.60ms per iter\n",
      "Executed: 2.86ms per iter\n",
      "Executed: 2.68ms per iter\n"
     ]
    }
   ],
   "source": [
    "import os\n",
    "# persistent_workers=True\n",
    "loader = DataLoader(train_ds, batch_size=32, num_workers=16, persistent_workers=True)\n",
    "it = iter(loader)\n",
    "\n",
    "for _ in range(20):\n",
    "    time_start = perf_counter()\n",
    "    r = next(it)\n",
    "    print(f\"Executed: {(perf_counter()-time_start)*1000:.2f}ms per iter\")\n"
   ]
  },
  {
   "cell_type": "code",
   "execution_count": null,
   "id": "faf3d9b1-d033-4a19-9769-9ef669a528df",
   "metadata": {},
   "outputs": [],
   "source": []
  }
 ],
 "metadata": {
  "kernelspec": {
   "display_name": "conda_python3",
   "language": "python",
   "name": "conda_python3"
  },
  "language_info": {
   "codemirror_mode": {
    "name": "ipython",
    "version": 3
   },
   "file_extension": ".py",
   "mimetype": "text/x-python",
   "name": "python",
   "nbconvert_exporter": "python",
   "pygments_lexer": "ipython3",
   "version": "3.10.13"
  }
 },
 "nbformat": 4,
 "nbformat_minor": 5
}
