{
 "cells": [
  {
   "cell_type": "code",
   "execution_count": 1,
   "metadata": {},
   "outputs": [],
   "source": [
    "import fsspec\n",
    "import os\n",
    "import json\n",
    "from tqdm.auto import tqdm\n",
    "import json\n"
   ]
  },
  {
   "cell_type": "code",
   "execution_count": 6,
   "metadata": {},
   "outputs": [],
   "source": [
    "with open('/home/gpubox3/projects/hf-exp/model/classes-rafflesia-dataset-23986-2023-12-03.json', 'r') as f:\n",
    "    data = json.load(f)\n",
    "\n",
    "with open('/home/gpubox3/projects/hf-exp/model/classes-rafflesia.txt', 'w') as f:\n",
    "    f.writelines('\\n'.join(data.keys()))"
   ]
  },
  {
   "cell_type": "code",
   "execution_count": 7,
   "metadata": {},
   "outputs": [],
   "source": [
    "metadata_url = 's3://rafflesia-base-dataset/_metadata'\n",
    "\n",
    "fs, url_path = fsspec.core.url_to_fs(metadata_url)\n",
    "\n",
    "with fs.open(os.path.join(url_path, 'classes-rafflesia-dataset-23986-2023-12-03.json'), \"r\") as f:\n",
    "    index_to_name = json.load(f)\n"
   ]
  },
  {
   "cell_type": "code",
   "execution_count": null,
   "metadata": {},
   "outputs": [],
   "source": [
    "# s5cmd mv \"s3://rafflesia-base-dataset/data/train/*.json\" s3://rafflesia-base-dataset/data/train/_metadata/\n",
    "# s5cmd mv \"s3://rafflesia-base-dataset/data/train/*.parquet\" s3://rafflesia-base-dataset/data/train/_metadata/"
   ]
  },
  {
   "cell_type": "code",
   "execution_count": null,
   "metadata": {},
   "outputs": [],
   "source": [
    "# s5cmd mv \"s3://rafflesia-base-dataset/data/val//*.parquet\" s3://rafflesia-base-dataset/data/val/_metadata/\n",
    "# s5cmd mv \"s3://rafflesia-base-dataset/data/val/*.json\" s3://rafflesia-base-dataset/data/val/_metadata/"
   ]
  },
  {
   "cell_type": "code",
   "execution_count": 33,
   "metadata": {},
   "outputs": [],
   "source": [
    "metadata_train_url = 's3://rafflesia-base-dataset/data/val/_metadata'\n",
    "\n",
    "fs_train, url_path_train = fsspec.core.url_to_fs(metadata_train_url)\n",
    "\n",
    "info_json_data = {}\n",
    "\n",
    "metadata_files = list(sorted(fs_train.glob(url_path_train + \"/*.json\")))\n"
   ]
  },
  {
   "cell_type": "code",
   "execution_count": 34,
   "metadata": {},
   "outputs": [
    {
     "data": {
      "text/plain": [
       "60"
      ]
     },
     "execution_count": 34,
     "metadata": {},
     "output_type": "execute_result"
    }
   ],
   "source": [
    "len(metadata_files)"
   ]
  },
  {
   "cell_type": "code",
   "execution_count": 35,
   "metadata": {},
   "outputs": [
    {
     "data": {
      "text/plain": [
       "'rafflesia-base-dataset/data/val/_metadata/00000001_stats.json'"
      ]
     },
     "execution_count": 35,
     "metadata": {},
     "output_type": "execute_result"
    }
   ],
   "source": [
    "metadata_files[1]"
   ]
  },
  {
   "cell_type": "code",
   "execution_count": 36,
   "metadata": {},
   "outputs": [
    {
     "data": {
      "application/vnd.jupyter.widget-view+json": {
       "model_id": "36fcadf292004dc387422820ffaf7c13",
       "version_major": 2,
       "version_minor": 0
      },
      "text/plain": [
       "  0%|          | 0/60 [00:00<?, ?it/s]"
      ]
     },
     "metadata": {},
     "output_type": "display_data"
    }
   ],
   "source": [
    "omm_shard_count = max([len(os.path.basename(_file).split('_')[0]) for _file in metadata_files])\n",
    "\n",
    "def _get_shard_name(shard_id, oom_shard_count):\n",
    "    return \"{shard_id:0{oom_shard_count}d}\".format(\n",
    "        shard_id=shard_id, oom_shard_count=oom_shard_count\n",
    "    )\n",
    "\n",
    "split_name = f\"{{{_get_shard_name(0, omm_shard_count)}..{_get_shard_name(len(metadata_files)-1, omm_shard_count)}}}.tar\"\n",
    "\n",
    "info_structure = {\n",
    "    \"splits\": {\n",
    "        f\"{split_name}\": {\n",
    "            \"name\": \"train\",\n",
    "            \"filenames\": [],\n",
    "            \"shard_lengths\": []\n",
    "        }\n",
    "    }\n",
    "}\n",
    "\n",
    "for _meta_file in tqdm(metadata_files):\n",
    "    filename = os.path.basename(_meta_file).split('_')[0]\n",
    "\n",
    "    info_structure['splits'][f\"{split_name}\"]['filenames'].append(f\"{filename}.tar\")\n",
    "\n",
    "    with fs.open(_meta_file, \"r\") as f:\n",
    "        _metadata = json.load(f)\n",
    "        length = _metadata['successes']\n",
    "\n",
    "    info_structure['splits'][f\"{split_name}\"]['shard_lengths'].append(int(length))\n",
    "\n",
    "def save_info_json(info_structure, train_path_url='s3://rafflesia-base-dataset/data/train'):\n",
    "    fs, url_path_train = fsspec.core.url_to_fs(train_path_url)\n",
    "\n",
    "    with fs.open(os.path.join(url_path_train, 'info.json'), mode='w') as f:\n",
    "        json.dump(info_structure, f, indent=4)\n",
    "\n",
    "# save_info_json(info_structure)\n",
    "save_info_json(info_structure, 's3://rafflesia-base-dataset/data/val')\n"
   ]
  }
 ],
 "metadata": {
  "kernelspec": {
   "display_name": "timm",
   "language": "python",
   "name": "python3"
  },
  "language_info": {
   "codemirror_mode": {
    "name": "ipython",
    "version": 3
   },
   "file_extension": ".py",
   "mimetype": "text/x-python",
   "name": "python",
   "nbconvert_exporter": "python",
   "pygments_lexer": "ipython3",
   "version": "3.8.17"
  }
 },
 "nbformat": 4,
 "nbformat_minor": 2
}
